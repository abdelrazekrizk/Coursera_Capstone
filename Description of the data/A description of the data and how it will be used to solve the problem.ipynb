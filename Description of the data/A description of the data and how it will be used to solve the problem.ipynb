{
 "cells": [
  {
   "cell_type": "markdown",
   "metadata": {},
   "source": [
    "## By Abdelrazek Rizk\n",
    "\n",
    "\n",
    "# Data:\n",
    "\n",
    "# i. Wikipedia Data\n",
    "\n",
    "# The most top five states. Texas, New York, Florida ,\n",
    "\n",
    "# Pennsylvania and California round out for pharmacy chain information in the united state.\n",
    "\n",
    "```\n",
    "https://en.wikipedia.org/wiki/Pharmacies_in_the_United_States\n",
    "```\n",
    "# ii. Foursquare API\n",
    "\n",
    "# I queried Foursquare API in order find venues that are most\n",
    "\n",
    "#  popular in each Pharmacies in the United States\n",
    "\n",
    "#  Pharmacy rate, latitude and longitude of each pharmacy\n",
    "\n",
    "#  In order to determine which pharmacy chain is the best for our\n",
    "\n",
    "# clients.\n",
    "\n",
    "\n",
    "# iii. Csv file:\n",
    "\n",
    "#  Top U.S. pharmacies ranked by prescription drugs market share\n",
    "\n",
    "#  in 2019:\n",
    "\n",
    "```\n",
    "https://www.statista.com/statistics/734171/pharmacies-ranked-by-rx-market-share-in-us/\n",
    "```\n",
    "# Pharmacy and drug store sales in the United States from 1992 to\n",
    "\n",
    "# 2018 (in billion U.S. dollars):\n",
    "\n",
    "```\n",
    "https://www.statista.com/statistics/197635/annual-pharmacies-and-drug-store-sales-in-the-us-since-1992/\n",
    "```\n",
    "\n"
   ]
  }
 ],
 "metadata": {
  "kernelspec": {
   "display_name": "Python 3",
   "language": "python",
   "name": "python3"
  },
  "language_info": {
   "codemirror_mode": {
    "name": "ipython",
    "version": 3
   },
   "file_extension": ".py",
   "mimetype": "text/x-python",
   "name": "python",
   "nbconvert_exporter": "python",
   "pygments_lexer": "ipython3",
   "version": "3.7.4"
  }
 },
 "nbformat": 4,
 "nbformat_minor": 2
}
